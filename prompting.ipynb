{
 "cells": [
  {
   "cell_type": "markdown",
   "id": "b6b2058c",
   "metadata": {},
   "source": [
    "# Prompting"
   ]
  },
  {
   "cell_type": "markdown",
   "id": "4f01cfeb",
   "metadata": {},
   "source": [
    "Simple prompting application, testing one-shot and multi-shot prompting using code with Frontiers model and open-source"
   ]
  },
  {
   "cell_type": "markdown",
   "id": "f9bbf19d",
   "metadata": {},
   "source": [
    "### Imports"
   ]
  },
  {
   "cell_type": "code",
   "execution_count": 2,
   "id": "db0c9f20",
   "metadata": {},
   "outputs": [],
   "source": [
    "import os\n",
    "from dotenv import load_dotenv\n",
    "from openai import OpenAI\n",
    "from IPython.display import Markdown, display, update_display"
   ]
  },
  {
   "cell_type": "markdown",
   "id": "64a8537a",
   "metadata": {},
   "source": [
    "### Constants"
   ]
  },
  {
   "cell_type": "code",
   "execution_count": 5,
   "id": "60d72fa5",
   "metadata": {},
   "outputs": [],
   "source": [
    "MODEL_GPT = 'gpt-4o-mini'\n",
    "MODEL_LLAMA = 'llama3.2'"
   ]
  },
  {
   "cell_type": "markdown",
   "id": "abcbb58e",
   "metadata": {},
   "source": [
    "### Setup environment to load api keys"
   ]
  },
  {
   "cell_type": "code",
   "execution_count": 13,
   "id": "9be9f9f5",
   "metadata": {},
   "outputs": [
    {
     "name": "stdout",
     "output_type": "stream",
     "text": [
      "API key looks good so far.\n"
     ]
    }
   ],
   "source": [
    "load_dotenv(override=True)\n",
    "openai_api_key = os.getenv('OPENAI_API_KEY')\n",
    "\n",
    "if openai_api_key and openai_api_key.startswith('sk-proj-') and len(openai_api_key)>10:\n",
    "    print(\"API key looks good so far.\")\n",
    "else:\n",
    "    print(\"API key not looking good. Please make sure it's the correct one.\")\n",
    "    \n",
    "openai = OpenAI()\n",
    "openai_ollama = OpenAI(base_url=\"http://localhost:11434/v1\", api_key=\"ollama\")"
   ]
  },
  {
   "cell_type": "markdown",
   "id": "091ca723",
   "metadata": {},
   "source": [
    "### Setup messages to LLM"
   ]
  },
  {
   "cell_type": "code",
   "execution_count": 9,
   "id": "cc171815",
   "metadata": {},
   "outputs": [],
   "source": [
    "system_prompt = \"\"\"\n",
    "You are a skillfull tutor. You are capable of explaining python programming questions with a great certanity.\n",
    "Be thoughtfull, insightfull and explain the code so that a complete beginner could undestand it.\n",
    "Respond in a Markdown.\n",
    "\"\"\"\n",
    "\n",
    "user_prompt = \"\"\"\n",
    "Please explain what this code does and why:\n",
    "yield from {book.get(\"author\") for book in books if book.get(\"author\")}\n",
    "\"\"\"\n",
    "\n",
    "message = [\n",
    "    {\"role\": \"system\", \"content\": system_prompt},\n",
    "    {\"role\": \"user\", \"content\": user_prompt}\n",
    "]"
   ]
  },
  {
   "cell_type": "markdown",
   "id": "fd50b044",
   "metadata": {},
   "source": [
    "### Call model using OpenAI api"
   ]
  },
  {
   "cell_type": "code",
   "execution_count": 10,
   "id": "164b3d4b",
   "metadata": {},
   "outputs": [],
   "source": [
    "response = openai.chat.completions.create(\n",
    "    model=MODEL_GPT,\n",
    "    messages=message\n",
    ")"
   ]
  },
  {
   "cell_type": "markdown",
   "id": "8018ca42",
   "metadata": {},
   "source": [
    "### Display response"
   ]
  },
  {
   "cell_type": "code",
   "execution_count": 12,
   "id": "2077fd47",
   "metadata": {},
   "outputs": [
    {
     "data": {
      "text/markdown": [
       "Certainly! Let's break down the code step by step to understand what it does and why it is written this way.\n",
       "\n",
       "### Code Breakdown\n",
       "\n",
       "```python\n",
       "yield from {book.get(\"author\") for book in books if book.get(\"author\")}\n",
       "```\n",
       "\n",
       "#### 1. Context of `yield`\n",
       "The keyword `yield` is used in Python to create a generator. A generator is a special type of iterator that allows you to iterate through a sequence of values one at a time, without having to create an entire list in memory. When the `yield` statement is executed, it produces a value and pauses the function’s execution, which can be resumed later.\n",
       "\n",
       "#### 2. The `from` Keyword\n",
       "The `from` keyword in `yield from` was introduced to simplify the process of yielding values from a generator (or iterable). This means that the generator will yield all values yielded by another iterable.\n",
       "\n",
       "#### 3. Set Comprehension\n",
       "The part `{book.get(\"author\") for book in books if book.get(\"author\")}` is called a set comprehension.\n",
       "\n",
       "- **Set Comprehension**: This is a concise way to create a set (a collection of unique elements) in Python.\n",
       "- **The Expression**: `book.get(\"author\")`\n",
       "  - `book` is expected to be a dictionary that represents a book, likely with keys like `\"title\"`, `\"author\"`, etc.\n",
       "  - `get(\"author\")` attempts to retrieve the value associated with the key `\"author\"` from the `book` dictionary. If the key doesn’t exist, it returns `None`.\n",
       "  \n",
       "- **Iteration**: `for book in books`\n",
       "  - This loops over a collection called `books`. This collection should be a list of dictionaries wherein each dictionary represents a book.\n",
       "\n",
       "- **Filtering**: `if book.get(\"author\")`\n",
       "  - This condition checks whether `book.get(\"author\")` returns a non-None value, meaning that the book has an author listed.\n",
       "  - Only books with a defined author will have their authors included in the resultant set.\n",
       "\n",
       "### Putting It All Together\n",
       "This entire piece of code does the following:\n",
       "\n",
       "1. **Iterates** over a collection of `books`.\n",
       "2. **Extracts** the authors of each book where an author exists.\n",
       "3. **Creates a set** containing all unique authors (because sets automatically avoid duplicates).\n",
       "4. **Yields** each author from this set one by one.\n",
       "\n",
       "### Why Use This Code?\n",
       "- **Efficiency**: It uses a generator with `yield`, so it can handle large collections of books without exhausting memory by holding all authors in memory at once.\n",
       "- **Uniqueness**: By using a set comprehension, it ensures that each author appears only once in the output.\n",
       "- **Readability**: Set comprehensions are concise and can be easier to read than more verbose for-loops.\n",
       "\n",
       "### Conclusion\n",
       "In summary, this line of code is a compact and efficient way to retrieve all unique authors from a list of books, yielding them one at a time. By combining the concepts of yield, generators, and comprehensions, it produces a powerful tool for data manipulation in Python."
      ],
      "text/plain": [
       "<IPython.core.display.Markdown object>"
      ]
     },
     "metadata": {},
     "output_type": "display_data"
    },
    {
     "data": {
      "text/plain": [
       "<DisplayHandle display_id=f2811923cb9d357bc40bdf27a34354bc>"
      ]
     },
     "execution_count": 12,
     "metadata": {},
     "output_type": "execute_result"
    }
   ],
   "source": [
    "display(Markdown(response.choices[0].message.content), display_id=True)"
   ]
  },
  {
   "cell_type": "markdown",
   "id": "40bcb85d",
   "metadata": {},
   "source": [
    "### Get response using OpenAI api but with OLLAMA"
   ]
  },
  {
   "cell_type": "code",
   "execution_count": 14,
   "id": "c6f3f58d",
   "metadata": {},
   "outputs": [],
   "source": [
    "response = openai_ollama.chat.completions.create(\n",
    "    model=MODEL_LLAMA,\n",
    "    messages=message\n",
    ")"
   ]
  },
  {
   "cell_type": "markdown",
   "id": "bf6f8296",
   "metadata": {},
   "source": [
    "### Display OLLAMA response"
   ]
  },
  {
   "cell_type": "code",
   "execution_count": 15,
   "id": "9af3e076",
   "metadata": {},
   "outputs": [
    {
     "data": {
      "text/markdown": [
       "**Explanation of the Code**\n",
       "=====================================\n",
       "\n",
       "This line of code is using a Python feature called **generator expressions**, which allows us to create an iterator that generates values on-the-fly without having to store them all in memory at once.\n",
       "\n",
       "Let's break down what each part does:\n",
       "\n",
       "* `yield from`: This keyword is used to delegate the execution of a generator to another generator.\n",
       "* `{... for book in books if book.get(\"author\")}`: This is an expression that generates values. We'll dive into it in a moment, but essentially, it creates a new iterator over the values generated by the following operation.\n",
       "\n",
       "**Generator Expression**\n",
       "==========================\n",
       "\n",
       "The inner part of the `yield from` statement is a generator expression:\n",
       "\n",
       "* `{book.get(\"author\") for book in books if book.get(\"author\")}`\n",
       "\n",
       "This expression does the following:\n",
       "\n",
       "1. Iterate over each item (`book`) in the list or dictionary (`books`).\n",
       "2. For each `book`, check if it has an \"author\" key using `book.get(\"author\")`. If `book.get(\"author\")` returns `None`, skip that iteration and move on to the next one.\n",
       "3. If `book.get(\"author\")` is truthy (i.e., not `None`), include its author value in the iterator.\n",
       "\n",
       "However, since we're using `yield from`, the actual values being yielded are not necessarily the author's name itself.\n",
       "\n",
       "**Yielding Values**\n",
       "=====================\n",
       "\n",
       "When we use `yield from {book.get(\"author\") for book in books if book.get(\"author\")}`:\n",
       "\n",
       "* The generator expression produces an iterator of author names, but **only when each book has an \"author\" key**.\n",
       "* We're delegating the execution to this new iterator using `yield from`, so we don't immediately fetch all author values. Instead, this expression generates them **on-the-fly**, as needed.\n",
       "\n",
       "**Why?**\n",
       "==========\n",
       "\n",
       "This line of code is likely used in a context where you have multiple books and want to retrieve their authors without having to create a dictionary with all the book data or iterate over it unnecessarily.\n",
       "\n",
       "In other words, if you need to access individual authors' names from your `books` collection, this generator expression provides an efficient way to do so.\n",
       "\n",
       "Here is an example of how you might use this line of code:\n",
       "\n",
       "```python\n",
       "# Define some books data\n",
       "books = [\n",
       "    {\"title\": \"Book 1\", \"author\": \"Author A\"},\n",
       "    {\"title\": \"Book 2\", \"author\": None},\n",
       "    {\"title\": \"Book 3\", \"author\": \"Author C\"}\n",
       "]\n",
       "\n",
       "# Use the generator expression to get all authors' names\n",
       "authors = yield from {book.get(\"author\") for book in books if book.get(\"author\")}\n",
       "\n",
       "# Access individual authors' names as needed\n",
       "for author in authors:\n",
       "    print(f\"Reading '{books[indefinite variable]}', written by {author}.\")\n",
       "```\n",
       "\n",
       "Please let me know which part you need me to explain!"
      ],
      "text/plain": [
       "<IPython.core.display.Markdown object>"
      ]
     },
     "metadata": {},
     "output_type": "display_data"
    },
    {
     "data": {
      "text/plain": [
       "<DisplayHandle display_id=6ba92869421003ca4caf5498e15fc106>"
      ]
     },
     "execution_count": 15,
     "metadata": {},
     "output_type": "execute_result"
    }
   ],
   "source": [
    "display(Markdown(response.choices[0].message.content), display_id=True)"
   ]
  }
 ],
 "metadata": {
  "kernelspec": {
   "display_name": "llms",
   "language": "python",
   "name": "python3"
  },
  "language_info": {
   "codemirror_mode": {
    "name": "ipython",
    "version": 3
   },
   "file_extension": ".py",
   "mimetype": "text/x-python",
   "name": "python",
   "nbconvert_exporter": "python",
   "pygments_lexer": "ipython3",
   "version": "3.11.13"
  }
 },
 "nbformat": 4,
 "nbformat_minor": 5
}
